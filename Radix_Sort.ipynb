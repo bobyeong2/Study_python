{
 "cells": [
  {
   "cell_type": "code",
   "execution_count": 18,
   "id": "buried-senegal",
   "metadata": {},
   "outputs": [],
   "source": [
    "def radix(order) :\n",
    "    is_sorted = False\n",
    "    position = 1\n",
    "    \n",
    "    while not is_sorted :\n",
    "        is_sorted = True\n",
    "        queue_list = [list() for _ in range(10)]\n",
    "        \n",
    "        for num in order :\n",
    "            digit_number = (int) (num/position) % 10\n",
    "            queue_list[digit_number].append(num)\n",
    "            if is_sorted and digit_number > 0 :\n",
    "                is_sorted = False\n",
    "        index = 0\n",
    "        \n",
    "        for numbers in queue_list :\n",
    "            for num in numbers :\n",
    "                order[index] = num\n",
    "                index +=1\n",
    "        position *=10\n",
    "        \n",
    "x = [12,326,127,467,110,58]\n"
   ]
  },
  {
   "cell_type": "code",
   "execution_count": 19,
   "id": "loving-auditor",
   "metadata": {},
   "outputs": [
    {
     "name": "stdout",
     "output_type": "stream",
     "text": [
      "[12, 326, 127, 467, 110, 58]\n"
     ]
    }
   ],
   "source": [
    "print(x)"
   ]
  },
  {
   "cell_type": "code",
   "execution_count": 20,
   "id": "beautiful-midnight",
   "metadata": {},
   "outputs": [
    {
     "name": "stdout",
     "output_type": "stream",
     "text": [
      "[12, 58, 110, 127, 326, 467]\n"
     ]
    }
   ],
   "source": [
    "radix(x)\n",
    "print(x)"
   ]
  },
  {
   "cell_type": "code",
   "execution_count": 21,
   "id": "medieval-ballet",
   "metadata": {},
   "outputs": [
    {
     "data": {
      "text/plain": [
       "0"
      ]
     },
     "execution_count": 21,
     "metadata": {},
     "output_type": "execute_result"
    }
   ],
   "source": [
    "10 % 10"
   ]
  },
  {
   "cell_type": "code",
   "execution_count": null,
   "id": "intimate-tribe",
   "metadata": {},
   "outputs": [],
   "source": []
  }
 ],
 "metadata": {
  "kernelspec": {
   "display_name": "data-anal",
   "language": "python",
   "name": "data-anal"
  },
  "language_info": {
   "codemirror_mode": {
    "name": "ipython",
    "version": 3
   },
   "file_extension": ".py",
   "mimetype": "text/x-python",
   "name": "python",
   "nbconvert_exporter": "python",
   "pygments_lexer": "ipython3",
   "version": "3.8.5"
  }
 },
 "nbformat": 4,
 "nbformat_minor": 5
}
