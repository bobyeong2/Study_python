{
 "cells": [
  {
   "cell_type": "code",
   "execution_count": 2,
   "id": "acknowledged-button",
   "metadata": {},
   "outputs": [],
   "source": [
    "def change(x,i,j) :\n",
    "    x[i],x[j] = x[j], x[i]\n",
    "def selectionSort(x) :\n",
    "        \n",
    "    for size in reversed(range(len(x))) :\n",
    "        max_i = 0\n",
    "        for i in range(1, 1 + size) :\n",
    "            if x[i] > x[max_i] :\n",
    "                max_i = i\n",
    "        change(x, max_i, size)\n",
    "\n",
    "x = [5,2,8,6,1,9,3,7]\n",
    "            "
   ]
  },
  {
   "cell_type": "code",
   "execution_count": 3,
   "id": "meaning-margin",
   "metadata": {},
   "outputs": [],
   "source": [
    "selectionSort(x)"
   ]
  },
  {
   "cell_type": "code",
   "execution_count": 4,
   "id": "reserved-virus",
   "metadata": {},
   "outputs": [
    {
     "name": "stdout",
     "output_type": "stream",
     "text": [
      "[1, 2, 3, 5, 6, 7, 8, 9]\n"
     ]
    }
   ],
   "source": [
    "print(x)"
   ]
  },
  {
   "cell_type": "code",
   "execution_count": null,
   "id": "previous-florist",
   "metadata": {},
   "outputs": [],
   "source": []
  }
 ],
 "metadata": {
  "kernelspec": {
   "display_name": "data-anal",
   "language": "python",
   "name": "data-anal"
  },
  "language_info": {
   "codemirror_mode": {
    "name": "ipython",
    "version": 3
   },
   "file_extension": ".py",
   "mimetype": "text/x-python",
   "name": "python",
   "nbconvert_exporter": "python",
   "pygments_lexer": "ipython3",
   "version": "3.8.5"
  }
 },
 "nbformat": 4,
 "nbformat_minor": 5
}
