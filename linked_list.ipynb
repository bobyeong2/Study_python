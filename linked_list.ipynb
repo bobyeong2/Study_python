{
 "cells": [
  {
   "cell_type": "markdown",
   "id": "downtown-harassment",
   "metadata": {},
   "source": [
    "##### 하루에 하나씩 구매한 알고리즘 책을 봐가면서 알고리즘을 이해하고 작성하기\n"
   ]
  },
  {
   "cell_type": "markdown",
   "id": "double-number",
   "metadata": {},
   "source": [
    "- 자료구조 중 연결 리스트구현 (python)"
   ]
  },
  {
   "cell_type": "code",
   "execution_count": 7,
   "id": "regular-issue",
   "metadata": {},
   "outputs": [],
   "source": [
    "class Node :\n",
    "    def __init__(self, data, next=None) :\n",
    "        self.data = data\n",
    "        self.next = next\n",
    "        \n",
    "def init() :\n",
    "    global node1\n",
    "    node1 = Node(1)\n",
    "    \n",
    "    node2 = Node(2)\n",
    "    \n",
    "    node3 = Node(3)\n",
    "    \n",
    "    node4 = Node(4)\n",
    "    \n",
    "    node1.next = node2\n",
    "    node2.next = node3\n",
    "    node3.next = node4\n",
    "    \n",
    "    \n",
    "def delete(del_data) : \n",
    "    global node1\n",
    "    pre_node = node1\n",
    "    next_node = pre_node.next\n",
    "    if pre_node.data == del_data :\n",
    "        node1 = next_node\n",
    "        del pre_node\n",
    "        return\n",
    "    \n",
    "    while next_node :\n",
    "        if next_node.data == del_data :\n",
    "            pre_node.next = next_node.next\n",
    "            next_node = next_node.next\n",
    "            break\n",
    "        pre_node = next_node\n",
    "        next_node = next_node.next\n",
    "            \n",
    "def insert(ins_data) :\n",
    "    global node1\n",
    "    new_node = Node(ins_data)\n",
    "    new_node.next = node1\n",
    "    node1 = new_node\n",
    "    \n",
    "def print_list() :\n",
    "    global node1\n",
    "    node = node1\n",
    "    while node :\n",
    "        print(node.data)\n",
    "        node=node.next\n",
    "    print()\n"
   ]
  },
  {
   "cell_type": "code",
   "execution_count": 28,
   "id": "above-configuration",
   "metadata": {},
   "outputs": [
    {
     "name": "stdout",
     "output_type": "stream",
     "text": [
      "이름 : 채보병\n",
      "나이 : 26\n",
      "메일 : a01025494880@gmail.com\n"
     ]
    }
   ],
   "source": [
    "a.print_info()"
   ]
  },
  {
   "cell_type": "code",
   "execution_count": null,
   "id": "wired-surface",
   "metadata": {},
   "outputs": [],
   "source": []
  }
 ],
 "metadata": {
  "jupytext": {
   "encoding": "# -*- coding: utf-8 -*-",
   "formats": "ipynb,py:light"
  },
  "kernelspec": {
   "display_name": "data-anal",
   "language": "python",
   "name": "data-anal"
  },
  "language_info": {
   "codemirror_mode": {
    "name": "ipython",
    "version": 3
   },
   "file_extension": ".py",
   "mimetype": "text/x-python",
   "name": "python",
   "nbconvert_exporter": "python",
   "pygments_lexer": "ipython3",
   "version": "3.8.5"
  }
 },
 "nbformat": 4,
 "nbformat_minor": 5
}
