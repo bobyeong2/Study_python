{
 "cells": [
  {
   "cell_type": "code",
   "execution_count": 87,
   "id": "blank-indiana",
   "metadata": {},
   "outputs": [],
   "source": [
    "# Node의 형식을 정의함.\n",
    "\n",
    "class Node(object) :\n",
    "    def __init__(self, data) :\n",
    "        \n",
    "        self.data = data\n",
    "        self.left = self.right = None\n",
    "        \n",
    "class BinarySearchTree(object) :\n",
    "    \n",
    "    def __init__(self) :\n",
    "        \n",
    "        self.root = None\n",
    "        \n",
    "    def _insert_value(self, node, data) :\n",
    "        \n",
    "        if node is None :\n",
    "            \n",
    "            node = Node(data)\n",
    "            \n",
    "        else :\n",
    "            if data <= node.data :\n",
    "                node.left = self._insert_value(node.left, data)\n",
    "            else : \n",
    "                node.right = self._insert_value(node.right, data)\n",
    "                \n",
    "        return node\n",
    "    \n",
    "        \n",
    "    def insert(self, data) : # 이진트리에 데이터 삽입 구문\n",
    "        self.root = self._insert_value(self.root, data)\n",
    "        \n",
    "    def _find_value(self, root, key) :\n",
    "        \n",
    "        if root is None or root.data == key :\n",
    "            return root is not None\n",
    "        elif key < root.data :\n",
    "            return self._find_value(root.left, key)\n",
    "        else :\n",
    "            return self._find_value(root.right, key)\n",
    "    def find(self, key ) :\n",
    "        return self._find_value(self.root, key)\n",
    "\n",
    "    def _delete_value(self,node, key) :\n",
    "        \n",
    "        if node is None :\n",
    "            return node, False\n",
    "        deleted = False\n",
    "\n",
    "        if key == node.data :\n",
    "            deleted = True\n",
    "            if node.left and node.right :\n",
    "                parent, child = node, node.right\n",
    "                \n",
    "                while child.left is not None :\n",
    "                    parent, child = child.left\n",
    "                child.left = node.left\n",
    "                \n",
    "                if parent != node:\n",
    "                    parent.left = child.right\n",
    "                    child.right = node.right\n",
    "                node = child\n",
    "                \n",
    "            elif node.left or node.right :\n",
    "                    node = node.left or node.right\n",
    "            else :\n",
    "                node = None\n",
    "                    \n",
    "        elif key < node.data :\n",
    "\n",
    "            node.left, deleted = self._delete_value(node.left, key)\n",
    "\n",
    "        else : \n",
    "            node.right, deleted = self._delete_value(node.right, key)\n",
    "\n",
    "        return node, deleted\n",
    "    \n",
    "        \n",
    "    def delete(self, key) :\n",
    "        \n",
    "        self.root, deleted = self._delete_value(self.root, key)\n",
    "        \n",
    "        return deleted\n",
    "    \n",
    "        \n",
    "    def DFTravel(self) : #깊이 우선 탐색 중 전위 순회 : root > root.left > root.right\n",
    "        \n",
    "        def _DFTravel(root) :\n",
    "            if root is None :\n",
    "                pass\n",
    "            else :\n",
    "                print(root.data, end=' ')\n",
    "                _DFTravel(root.left)\n",
    "                _DFTravel(root.right)\n",
    "        _DFTravel(self.root)\n",
    "            \n",
    "    def LFTravel(self) :\n",
    "        def _LFTravel(root) :\n",
    "            if root is None :\n",
    "                pass\n",
    "            else :\n",
    "                \n",
    "                _LFTravel(root.left)\n",
    "                print(root.data, end=' ')\n",
    "                _LFTravel(root.right)\n",
    "        _LFTravel(self.root)\n",
    "        \n",
    "    def LRTravel(self) :\n",
    "        def _LRTravel(root) :\n",
    "            if root is None :\n",
    "                pass\n",
    "            else :\n",
    "                \n",
    "                _LRTravel(root.left)\n",
    "                print(root.data, end=' ')\n",
    "                _LRTravel(root.right)\n",
    "        _LRTravel(self.root)\n",
    "        \n",
    "    def layerTravel(self) :\n",
    "        def _layerTravel(root) :\n",
    "            \n",
    "            queue = [root]\n",
    "            while queue :\n",
    "                \n",
    "                root = queue.pop(0)\n",
    "                if root is not None :\n",
    "                    print(root.data, end=' ')\n",
    "                    if root.left :\n",
    "                        queue.append(root.left)\n",
    "                    if root.right :\n",
    "                        queue.append(root.right)\n",
    "        _layerTravel(self.root)\n",
    "        \n",
    "    \n",
    "    "
   ]
  },
  {
   "cell_type": "code",
   "execution_count": 92,
   "id": "responsible-seeking",
   "metadata": {},
   "outputs": [],
   "source": [
    "data = [20,6,8,12,78,32,65,32,7,9]\n",
    "tree = BinarySearchTree()"
   ]
  },
  {
   "cell_type": "code",
   "execution_count": 93,
   "id": "spread-static",
   "metadata": {},
   "outputs": [],
   "source": [
    "for x in data :\n",
    "    tree.insert(x)"
   ]
  },
  {
   "cell_type": "code",
   "execution_count": 94,
   "id": "outdoor-pencil",
   "metadata": {},
   "outputs": [],
   "source": [
    "# print(tree.find(9))\n",
    "# print(tree.find(3))\n",
    "# print(tree.delete(78))\n",
    "# print(tree.delete(6))\n",
    "# print(tree.delete(11))"
   ]
  },
  {
   "cell_type": "code",
   "execution_count": 95,
   "id": "representative-dealer",
   "metadata": {},
   "outputs": [
    {
     "name": "stdout",
     "output_type": "stream",
     "text": [
      "20 6 8 7 12 9 78 32 32 65 "
     ]
    }
   ],
   "source": [
    "tree.DFTravel()"
   ]
  },
  {
   "cell_type": "code",
   "execution_count": 96,
   "id": "representative-impossible",
   "metadata": {},
   "outputs": [
    {
     "name": "stdout",
     "output_type": "stream",
     "text": [
      "6 7 8 9 12 20 32 32 65 78 "
     ]
    }
   ],
   "source": [
    "tree.LFTravel()"
   ]
  },
  {
   "cell_type": "code",
   "execution_count": null,
   "id": "serious-rubber",
   "metadata": {},
   "outputs": [],
   "source": []
  }
 ],
 "metadata": {
  "kernelspec": {
   "display_name": "data-anal",
   "language": "python",
   "name": "data-anal"
  },
  "language_info": {
   "codemirror_mode": {
    "name": "ipython",
    "version": 3
   },
   "file_extension": ".py",
   "mimetype": "text/x-python",
   "name": "python",
   "nbconvert_exporter": "python",
   "pygments_lexer": "ipython3",
   "version": "3.8.5"
  }
 },
 "nbformat": 4,
 "nbformat_minor": 5
}
