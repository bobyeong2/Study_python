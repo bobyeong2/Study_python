{
 "cells": [
  {
   "cell_type": "code",
   "execution_count": 1,
   "id": "original-offset",
   "metadata": {},
   "outputs": [],
   "source": [
    "def Queue() :\n",
    "    \n",
    "    Queue = []\n",
    "    \n",
    "    Queue.append(1)\n",
    "    Queue.append(2)\n",
    "    Queue.append(3)\n",
    "    Queue.append(4)\n",
    "    Queue.append(5)\n",
    "    \n",
    "    \n",
    "    while Queue :\n",
    "        \n",
    "        print(Queue.pop(0))\n",
    "        \n",
    "        \n",
    "    "
   ]
  },
  {
   "cell_type": "code",
   "execution_count": 3,
   "id": "boxed-converter",
   "metadata": {},
   "outputs": [
    {
     "name": "stdout",
     "output_type": "stream",
     "text": [
      "1\n",
      "2\n",
      "3\n",
      "4\n",
      "5\n"
     ]
    }
   ],
   "source": [
    "Queue()"
   ]
  }
 ],
 "metadata": {
  "kernelspec": {
   "display_name": "data-anal",
   "language": "python",
   "name": "data-anal"
  },
  "language_info": {
   "codemirror_mode": {
    "name": "ipython",
    "version": 3
   },
   "file_extension": ".py",
   "mimetype": "text/x-python",
   "name": "python",
   "nbconvert_exporter": "python",
   "pygments_lexer": "ipython3",
   "version": "3.8.5"
  }
 },
 "nbformat": 4,
 "nbformat_minor": 5
}
