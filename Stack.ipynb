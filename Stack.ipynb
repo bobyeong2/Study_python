{
 "cells": [
  {
   "cell_type": "code",
   "execution_count": 15,
   "id": "czech-certificate",
   "metadata": {},
   "outputs": [],
   "source": [
    "def Stack():\n",
    "    \n",
    "    stack = []\n",
    "    \n",
    "    stack.append(1)\n",
    "    stack.append(2)\n",
    "    stack.append(3)\n",
    "    stack.append(4)\n",
    "    stack.append(5)\n",
    "    \n",
    "    while stack :\n",
    "        \n",
    "        print(\"stack pop value : \", stack.pop())\n",
    "        "
   ]
  },
  {
   "cell_type": "code",
   "execution_count": 16,
   "id": "analyzed-swaziland",
   "metadata": {},
   "outputs": [
    {
     "name": "stdout",
     "output_type": "stream",
     "text": [
      "stack pop value :  5\n",
      "stack pop value :  4\n",
      "stack pop value :  3\n",
      "stack pop value :  2\n",
      "stack pop value :  1\n"
     ]
    }
   ],
   "source": [
    "\n",
    "Stack()"
   ]
  },
  {
   "cell_type": "code",
   "execution_count": null,
   "id": "micro-beverage",
   "metadata": {},
   "outputs": [],
   "source": []
  }
 ],
 "metadata": {
  "jupytext": {
   "formats": "ipynb,py:light"
  },
  "kernelspec": {
   "display_name": "data-anal",
   "language": "python",
   "name": "data-anal"
  },
  "language_info": {
   "codemirror_mode": {
    "name": "ipython",
    "version": 3
   },
   "file_extension": ".py",
   "mimetype": "text/x-python",
   "name": "python",
   "nbconvert_exporter": "python",
   "pygments_lexer": "ipython3",
   "version": "3.8.5"
  }
 },
 "nbformat": 4,
 "nbformat_minor": 5
}
